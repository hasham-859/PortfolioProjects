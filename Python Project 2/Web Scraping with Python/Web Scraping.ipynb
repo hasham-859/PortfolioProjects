{
 "cells": [
  {
   "cell_type": "markdown",
   "id": "748ea155",
   "metadata": {},
   "source": [
    "# Amazon Web Scraping"
   ]
  },
  {
   "cell_type": "markdown",
   "id": "3b2791f9",
   "metadata": {},
   "source": [
    "### import libraries"
   ]
  },
  {
   "cell_type": "code",
   "execution_count": 31,
   "id": "868ae232",
   "metadata": {},
   "outputs": [],
   "source": [
    "from bs4 import BeautifulSoup\n",
    "\n",
    "import requests\n",
    "\n",
    "import datetime\n",
    "\n",
    "import time\n",
    "\n",
    "import smtplib"
   ]
  },
  {
   "cell_type": "code",
   "execution_count": null,
   "id": "324c2034",
   "metadata": {},
   "outputs": [],
   "source": []
  },
  {
   "cell_type": "markdown",
   "id": "8f738a19",
   "metadata": {},
   "source": [
    "### connect to the website and pull in data"
   ]
  },
  {
   "cell_type": "code",
   "execution_count": 32,
   "id": "2679dbfb",
   "metadata": {},
   "outputs": [
    {
     "name": "stdout",
     "output_type": "stream",
     "text": [
      "\n",
      "              Funny Got Data MIS Data Systems Business Analyst T-Shirt\n",
      "             \n",
      "\n",
      "\n",
      "\n",
      "\n",
      "\n",
      "                    4.3 out of 5 stars\n",
      "                   \n",
      "\n",
      "\n",
      "                   (4.3)\n",
      "                  \n",
      "\n",
      "\n",
      "\n",
      "\n",
      "\n",
      "\n",
      "\n"
     ]
    }
   ],
   "source": [
    "url = 'https://www.amazon.com/Funny-Data-Systems-Business-Analyst/dp/B07FNW9FGJ/ref=sr_1_3?dchild=1&keywords=data%2Banalyst%2Btshirt&qid=1626655184&sr=8-3&customId=B0752XJYNL&th=1'\n",
    "\n",
    "headers = {\"User-Agent\": \"Mozilla/5.0 (Windows NT 10.0; Win64; x64) AppleWebKit/537.36 (KHTML, like Gecko) Chrome/112.0.0.0 Safari/537.36\",  \"Accept-Encoding\":\"gzip, deflate\", \"Accept\":\"text/html,application/xhtml+xml,application/xml;q=0.9,*/*;q=0.8\", \"DNT\":\"1\",\"Connection\":\"close\", \"Upgrade-Insecure-Requests\":\"1\"}\n",
    "\n",
    "page = requests.get(url, headers=headers)\n",
    "\n",
    "soup1  = BeautifulSoup(page.content, \"html.parser\")\n",
    "\n",
    "soup2 = BeautifulSoup(soup1.prettify(), \"html.parser\")\n",
    "\n",
    "title = soup2.find(id = \"productTitle\").get_text()\n",
    "\n",
    "rating = soup2.find(id =\"acrPopover\").get_text()\n",
    "\n",
    "\n",
    "\n",
    "print(title)\n",
    "print(rating)\n"
   ]
  },
  {
   "cell_type": "code",
   "execution_count": null,
   "id": "c188deee",
   "metadata": {},
   "outputs": [],
   "source": []
  },
  {
   "cell_type": "markdown",
   "id": "16e8d69d",
   "metadata": {},
   "source": [
    "### Clean up Data littile bit"
   ]
  },
  {
   "cell_type": "code",
   "execution_count": 33,
   "id": "00f5d447",
   "metadata": {},
   "outputs": [
    {
     "name": "stdout",
     "output_type": "stream",
     "text": [
      "Funny Got Data MIS Data Systems Business Analyst T-Shirt\n",
      "4.3 out of 5 stars\n",
      "                   \n",
      "\n",
      "\n",
      "                   (4.3)\n"
     ]
    }
   ],
   "source": [
    "title = title.strip()\n",
    "rating = rating.strip()\n",
    "\n",
    "print(title)\n",
    "print(rating)\n"
   ]
  },
  {
   "cell_type": "code",
   "execution_count": null,
   "id": "d31167ea",
   "metadata": {},
   "outputs": [],
   "source": []
  },
  {
   "cell_type": "markdown",
   "id": "274c7c29",
   "metadata": {},
   "source": [
    "### Create a Timestamp for your output to track when data was collected"
   ]
  },
  {
   "cell_type": "code",
   "execution_count": 34,
   "id": "7fc41bbb",
   "metadata": {},
   "outputs": [
    {
     "name": "stdout",
     "output_type": "stream",
     "text": [
      "2023-05-02\n"
     ]
    }
   ],
   "source": [
    "import datetime\n",
    "\n",
    "today = datetime.date.today()\n",
    "\n",
    "print(today)\n",
    "\n"
   ]
  },
  {
   "cell_type": "code",
   "execution_count": null,
   "id": "a53af2d5",
   "metadata": {},
   "outputs": [],
   "source": []
  },
  {
   "cell_type": "markdown",
   "id": "34c71950",
   "metadata": {},
   "source": [
    "### Create CSV and write headers and data into the file\n"
   ]
  },
  {
   "cell_type": "code",
   "execution_count": 37,
   "id": "ae6fe4ab",
   "metadata": {},
   "outputs": [],
   "source": [
    "# Create CSV and write headers and data into the file\n",
    "\n",
    "import csv \n",
    "\n",
    "header = ['Title', 'rating', 'Date']\n",
    "data = [title, rating, today]\n",
    "\n",
    "\n",
    "with open('AmazonWebScraperDataset.csv', 'w', newline='', encoding='UTF8') as f:\n",
    "    writer = csv.writer(f)\n",
    "    writer.writerow(header)\n",
    "    writer.writerow(data)\n",
    "    \n",
    "    "
   ]
  },
  {
   "cell_type": "code",
   "execution_count": null,
   "id": "5f3a4868",
   "metadata": {},
   "outputs": [],
   "source": []
  },
  {
   "cell_type": "code",
   "execution_count": 38,
   "id": "37e13379",
   "metadata": {},
   "outputs": [
    {
     "name": "stdout",
     "output_type": "stream",
     "text": [
      "                                               Title        Date\n",
      "0  \\n                   Funny Got Data MIS Data S...  2023-04-30\n"
     ]
    }
   ],
   "source": [
    "import pandas as pd\n",
    "\n",
    "#df = pd.read_csv(r'C:\\Users\\alexf\\AmazonWebScraperDataset.csv')\n",
    "\n",
    "df = pd.read_csv(r'C:\\Users\\Fine Traders\\Desktop\\Portfolio Projects\\Python Project 2\\AmazonWebScraperDataset.csv')\n",
    "\n",
    "print(df)"
   ]
  },
  {
   "cell_type": "code",
   "execution_count": null,
   "id": "7b80ab4e",
   "metadata": {},
   "outputs": [],
   "source": []
  },
  {
   "cell_type": "markdown",
   "id": "d6a5859e",
   "metadata": {},
   "source": [
    "### Now we are appending data to the csv"
   ]
  },
  {
   "cell_type": "code",
   "execution_count": 39,
   "id": "84dfa1a4",
   "metadata": {},
   "outputs": [],
   "source": [
    "with open('AmazonWebScraperDataset.csv', 'a+', newline='', encoding='UTF8') as f:\n",
    "    \n",
    "    writer = csv.writer(f)\n",
    "    \n",
    "    writer.writerow(header)\n",
    "    \n",
    "    writer.writerow(data)\n",
    "    \n",
    "    \n",
    "    "
   ]
  },
  {
   "cell_type": "code",
   "execution_count": null,
   "id": "1344bd9b",
   "metadata": {},
   "outputs": [],
   "source": []
  },
  {
   "cell_type": "markdown",
   "id": "2eeb47b8",
   "metadata": {},
   "source": [
    "### Combine all of the above code into one function\n"
   ]
  },
  {
   "cell_type": "code",
   "execution_count": 40,
   "id": "ca395fcd",
   "metadata": {},
   "outputs": [],
   "source": [
    "def check_price():\n",
    "    url = 'https://www.amazon.com/Funny-Data-Systems-Business-Analyst/dp/B07FNW9FGJ/ref=sr_1_3?dchild=1&keywords=data%2Banalyst%2Btshirt&qid=1626655184&sr=8-3&customId=B0752XJYNL&th=1'\n",
    "\n",
    "    headers = {\"User-Agent\": \"Mozilla/5.0 (Windows NT 10.0; Win64; x64) AppleWebKit/537.36 (KHTML, like Gecko) Chrome/112.0.0.0 Safari/537.36\",  \"Accept-Encoding\":\"gzip, deflate\", \"Accept\":\"text/html,application/xhtml+xml,application/xml;q=0.9,*/*;q=0.8\", \"DNT\":\"1\",\"Connection\":\"close\", \"Upgrade-Insecure-Requests\":\"1\"}\n",
    "\n",
    "    page = requests.get(url, headers=headers)\n",
    "\n",
    "    soup1  = BeautifulSoup(page.content, \"html.parser\")\n",
    "\n",
    "    soup2 = BeautifulSoup(soup1.prettify(), \"html.parser\")\n",
    "\n",
    "    title = soup2.find(id = \"productTitle\").get_text()\n",
    "    \n",
    "    rating = soup2.find(id =\"acrPopover\").get_text()\n",
    "\n",
    "    print(title)\n",
    "    \n",
    "    print(rating)\n",
    "    \n",
    "    import datetime\n",
    "\n",
    "    today = datetime.date.today()\n",
    "    \n",
    "    import csv \n",
    "\n",
    "    header = ['Title', 'rating', 'Date']\n",
    "    data = [title, rating, today]\n",
    "\n",
    "\n",
    "    with open('AmazonWebScraperDataset.csv', 'w', newline='', encoding='UTF8') as f:\n",
    "        writer = csv.writer(f)\n",
    "        writer.writerow(header)\n",
    "        writer.writerow(data)\n",
    "    \n",
    "    \n",
    "    \n",
    "\n",
    "    \n",
    "    "
   ]
  },
  {
   "cell_type": "code",
   "execution_count": null,
   "id": "569a61d7",
   "metadata": {},
   "outputs": [],
   "source": []
  },
  {
   "cell_type": "markdown",
   "id": "3bc9f92c",
   "metadata": {},
   "source": [
    "### Runs check_price after a set time and inputs data into your CSV"
   ]
  },
  {
   "cell_type": "code",
   "execution_count": null,
   "id": "0cd854d7",
   "metadata": {},
   "outputs": [
    {
     "name": "stdout",
     "output_type": "stream",
     "text": [
      "\n",
      "                   Funny Got Data MIS Data Systems Business Analyst T-Shirt\n",
      "                  \n",
      "\n",
      "\n",
      "\n",
      "\n",
      "\n",
      "                       4.3 out of 5 stars\n",
      "                      \n",
      "\n",
      "\n",
      "                      4.3\n",
      "                     \n",
      "\n",
      "\n",
      "\n",
      "\n",
      "\n",
      "\n",
      "\n",
      "\n",
      "              Funny Got Data MIS Data Systems Business Analyst T-Shirt\n",
      "             \n",
      "\n",
      "\n",
      "\n",
      "\n",
      "\n",
      "                    4.3 out of 5 stars\n",
      "                   \n",
      "\n",
      "\n",
      "                   4.3\n",
      "                  \n",
      "\n",
      "\n",
      "\n",
      "\n",
      "\n",
      "\n",
      "\n",
      "\n",
      "                   Funny Got Data MIS Data Systems Business Analyst T-Shirt\n",
      "                  \n",
      "\n",
      "\n",
      "\n",
      "\n",
      "                      4.3\n",
      "                     \n",
      "\n",
      "\n",
      "                       4.3 out of 5 stars\n",
      "                      \n",
      "\n",
      "\n",
      "\n",
      "\n",
      "\n",
      "\n",
      "\n",
      "\n"
     ]
    }
   ],
   "source": [
    "while(True):\n",
    "    check_price()\n",
    "    time.sleep(5)"
   ]
  },
  {
   "cell_type": "code",
   "execution_count": 29,
   "id": "63d186f6",
   "metadata": {},
   "outputs": [
    {
     "name": "stdout",
     "output_type": "stream",
     "text": [
      "                                               Title        Date\n",
      "0  \\n                   Funny Got Data MIS Data S...  2023-04-30\n"
     ]
    }
   ],
   "source": [
    "import pandas as pd\n",
    "\n",
    "#df = pd.read_csv(r'C:\\Users\\alexf\\AmazonWebScraperDataset.csv')\n",
    "\n",
    "df = pd.read_csv(r'C:\\Users\\Fine Traders\\Desktop\\Portfolio Projects\\Python Project 2\\AmazonWebScraperDataset.csv')\n",
    "\n",
    "print(df)"
   ]
  },
  {
   "cell_type": "code",
   "execution_count": null,
   "id": "5cfdab0b",
   "metadata": {},
   "outputs": [],
   "source": []
  },
  {
   "cell_type": "code",
   "execution_count": null,
   "id": "e988467a",
   "metadata": {},
   "outputs": [],
   "source": [
    "# If uou want to try sending yourself an email (just for fun) when a price hits below a certain level you can try it\n",
    "# out with this script\n",
    "\n",
    "def send_mail():\n",
    "    server = smtplib.SMTP_SSL('smtp.gmail.com',465)\n",
    "    server.ehlo()\n",
    "    #server.starttls()\n",
    "    server.ehlo()\n",
    "    server.login('hashamnadeem859@gmail.com','xxxxxxxxxxxxxx')\n",
    "    \n",
    "    subject = \"The Shirt you want is below $15! Now is your chance to buy!\"\n",
    "    body = \"Alex, This is the moment we have been waiting for. Now is your chance to pick up the shirt of your dreams. Don't mess it up! Link here: https://www.amazon.com/Funny-Data-Systems-Business-Analyst/dp/B07FNW9FGJ/ref=sr_1_3?dchild=1&keywords=data+analyst+tshirt&qid=1626655184&sr=8-3\"\n",
    "   \n",
    "    msg = f\"Subject: {subject}\\n\\n{body}\"\n",
    "    \n",
    "    server.sendmail(\n",
    "        'hashamnadeem859@gmail.com',\n",
    "        msg\n",
    "     \n",
    "    )\n",
    "\n",
    "\n",
    "\n",
    "\n",
    "\n",
    "\n",
    "\n",
    "\n",
    "\n",
    "\n",
    "\n",
    "\n",
    "\n",
    "\n",
    "\n",
    "\n",
    "\n"
   ]
  },
  {
   "cell_type": "code",
   "execution_count": null,
   "id": "aa607357",
   "metadata": {},
   "outputs": [],
   "source": []
  }
 ],
 "metadata": {
  "kernelspec": {
   "display_name": "Python 3 (ipykernel)",
   "language": "python",
   "name": "python3"
  },
  "language_info": {
   "codemirror_mode": {
    "name": "ipython",
    "version": 3
   },
   "file_extension": ".py",
   "mimetype": "text/x-python",
   "name": "python",
   "nbconvert_exporter": "python",
   "pygments_lexer": "ipython3",
   "version": "3.9.13"
  }
 },
 "nbformat": 4,
 "nbformat_minor": 5
}
