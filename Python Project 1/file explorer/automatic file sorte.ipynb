{
 "cells": [
  {
   "cell_type": "markdown",
   "id": "81118c4d",
   "metadata": {},
   "source": [
    "# Automatic File Sorter in File Explorer"
   ]
  },
  {
   "cell_type": "code",
   "execution_count": 1,
   "id": "8458af0f",
   "metadata": {},
   "outputs": [],
   "source": [
    "import os, shutil"
   ]
  },
  {
   "cell_type": "code",
   "execution_count": 1,
   "id": "c3309821",
   "metadata": {},
   "outputs": [],
   "source": [
    "path = r\"C:/Users/Fine Traders/Desktop/Portfolio Projects/Python Project 1/file explorer/\""
   ]
  },
  {
   "cell_type": "code",
   "execution_count": 20,
   "id": "1cb19d10",
   "metadata": {},
   "outputs": [],
   "source": [
    "file_name = os.listdir(path)"
   ]
  },
  {
   "cell_type": "code",
   "execution_count": 21,
   "id": "02fd094e",
   "metadata": {},
   "outputs": [
    {
     "data": {
      "text/plain": [
       "['.ipynb_checkpoints',\n",
       " '.jovianrc',\n",
       " 'automatic file sorte.ipynb',\n",
       " 'Conditional Formatting Excel Tutorial File (1).xlsx',\n",
       " 'New Text Document.txt',\n",
       " 'Screenshot (270).png',\n",
       " 'Screenshot (271).png']"
      ]
     },
     "execution_count": 21,
     "metadata": {},
     "output_type": "execute_result"
    }
   ],
   "source": [
    "file_name"
   ]
  },
  {
   "cell_type": "code",
   "execution_count": 24,
   "id": "d6a78490",
   "metadata": {},
   "outputs": [],
   "source": [
    "folder_names = ['excel files', 'image files', 'text files']\n",
    "\n",
    "for loop in range(0,3):\n",
    "    if not os.path.exists(path + folder_names[loop]):\n",
    "        os.makedirs(path + folder_names[loop])\n",
    "        \n",
    "for file in file_name:\n",
    "    if '.xlsx' in file and not os.path.exists(path + 'excel files/' + file):\n",
    "        shutil.move(path + file , path + 'csv files/' + file )\n",
    "    elif '.png' in file and not os.path.exists(path + 'image files/' + file):\n",
    "        shutil.move(path + file , path + 'image files/' + file )\n",
    "    elif '.txt' in file and not os.path.exists(path + 'text files/' + file):\n",
    "        shutil.move(path + file , path + 'text files/' + file )\n",
    "           \n",
    "       \n",
    "        \n",
    "    \n",
    "    \n",
    "    "
   ]
  },
  {
   "cell_type": "code",
   "execution_count": null,
   "id": "70057366",
   "metadata": {},
   "outputs": [],
   "source": []
  },
  {
   "cell_type": "code",
   "execution_count": null,
   "id": "5afddda9",
   "metadata": {},
   "outputs": [],
   "source": []
  }
 ],
 "metadata": {
  "kernelspec": {
   "display_name": "Python 3 (ipykernel)",
   "language": "python",
   "name": "python3"
  },
  "language_info": {
   "codemirror_mode": {
    "name": "ipython",
    "version": 3
   },
   "file_extension": ".py",
   "mimetype": "text/x-python",
   "name": "python",
   "nbconvert_exporter": "python",
   "pygments_lexer": "ipython3",
   "version": "3.9.13"
  }
 },
 "nbformat": 4,
 "nbformat_minor": 5
}
